{
 "cells": [
  {
   "cell_type": "markdown",
   "id": "065af92d-1f89-4b32-88ba-69609a750b8b",
   "metadata": {},
   "source": [
    "# DSCI 100 Project: Final Report"
   ]
  },
  {
   "cell_type": "markdown",
   "id": "fb7c5bd0-97be-4f2b-b678-12ea9c30f989",
   "metadata": {},
   "source": [
    "#### Names: Jasleen Jhajj, Josh Mitra, Angelina Chen"
   ]
  },
  {
   "cell_type": "markdown",
   "id": "3e79a82c-f0c8-418d-ae8b-cbc585d107d4",
   "metadata": {},
   "source": [
    "#### Student IDs: 98671837,"
   ]
  },
  {
   "cell_type": "markdown",
   "id": "2a3df52b-07ff-4d63-85a7-09e2d402a0da",
   "metadata": {},
   "source": [
    "---\n",
    "## Introduction"
   ]
  },
  {
   "cell_type": "markdown",
   "id": "701a0434-e692-45d4-b6ca-8dd78dcb6ecd",
   "metadata": {},
   "source": [
    "A UBC Computer Science research group is studying how people play video games, focusing on Minecraft. They set up a Minecraft server to track player actions. The data is divided into two sets: players.csv and sessions.csv. The players.csv data set has 7 variables and 194 observations. Contrarily, the sessions.csv data set has 5 variables and 1533 observations. Some potential issues with these data sets are that they are not very human readable, some players have played 0 hour, hashedEmail columns are extremely hard to read, as they are just a long sequence of numbers and letters, in the sessions.csv data set, it is very unclear what the original_start_time and original_end_time columns represent, the start_time and end_time columns have 2 observations in each cell, making the data untidy, finally there are multiple players in the players.csv data set that have player 0 hours, causing issues when trying to create visuals for this data. The question we tried to answer in our project was if a player's playtime (played_hours), experience level (experience), and number of sessions (number_of_sessions) predict their likelihood of subscribing to the newsletter (subscribe)? played_hours, experience, and number_of_sessions are key factors in predicting whether a player will subscribe to the newsletter. played_hours measures overall engagement, experience indicates skill level and familiarity with the game, and number_of_sessions reflects playing habits. Preparing the data involves scaling numerical values, encoding categorical variables, and handling missing data to ensure the model can accurately identify patterns and make reliable predictions."
   ]
  },
  {
   "cell_type": "markdown",
   "id": "fdc2b647-9416-4867-894f-635f550ec0d1",
   "metadata": {},
   "source": [
    "---\n",
    "## Methods & Results"
   ]
  },
  {
   "cell_type": "markdown",
   "id": "cb0abbdf-785b-48df-b105-38ca156f36e5",
   "metadata": {},
   "source": [
    "---\n",
    "## Discussion"
   ]
  }
 ],
 "metadata": {
  "kernelspec": {
   "display_name": "Python 3 (ipykernel)",
   "language": "python",
   "name": "python3"
  },
  "language_info": {
   "codemirror_mode": {
    "name": "ipython",
    "version": 3
   },
   "file_extension": ".py",
   "mimetype": "text/x-python",
   "name": "python",
   "nbconvert_exporter": "python",
   "pygments_lexer": "ipython3",
   "version": "3.11.9"
  }
 },
 "nbformat": 4,
 "nbformat_minor": 5
}
