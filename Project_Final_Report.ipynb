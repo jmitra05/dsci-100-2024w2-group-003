{
 "cells": [
  {
   "cell_type": "markdown",
   "id": "0437b687-80dc-4ca2-a8eb-31d84812eaab",
   "metadata": {},
   "source": [
    "# DSCI 100 Project Final Report"
   ]
  },
  {
   "cell_type": "markdown",
   "id": "3ddb7e3d-6f0b-47ac-b502-340db8886183",
   "metadata": {},
   "source": [
    "#### Names: Jasleen Jhajj, Josh Mitra, Angelina Chen"
   ]
  },
  {
   "cell_type": "markdown",
   "id": "4d9c6ec3-699a-4a25-8b18-69771d19f80f",
   "metadata": {},
   "source": [
    "#### Student IDs: 98671837,"
   ]
  },
  {
   "cell_type": "markdown",
   "id": "e97b9a4e-9bbd-4675-aad4-4ace6f5784fc",
   "metadata": {},
   "source": [
    "---\n",
    "## Introduction"
   ]
  },
  {
   "cell_type": "markdown",
   "id": "2954583e-5162-46df-bcbc-d5c150a52407",
   "metadata": {},
   "source": [
    "A UBC Computer Science research group is studying how people play video games, focusing on Minecraft. They set up a Minecraft server to track player actions. The data is divided into two sets: players.csv and sessions.csv. The players.csv data set has 7 variables and 194 observations. Contrarily, the sessions.csv data set has 5 variables and 1533 observations. Some potential issues with these data sets are that they are not very human readable, some players have played 0 hour, hashedEmail columns are extremely hard to read, as they are just a long sequence of numbers and letters, in the sessions.csv data set, it is very unclear what the original_start_time and original_end_time columns represent, the start_time and end_time columns have 2 observations in each cell, making the data untidy, finally there are multiple players in the players.csv data set that have player 0 hours, causing issues when trying to create visuals for this data. The question we tried to answer in our project was if a player's playtime (played_hours), experience level (experience), and number of sessions (number_of_sessions) predict their likelihood of subscribing to the newsletter (subscribe)? played_hours, experience, and number_of_sessions are key factors in predicting whether a player will subscribe to the newsletter. played_hours measures overall engagement, experience indicates skill level and familiarity with the game, and number_of_sessions reflects playing habits. Preparing the data involves scaling numerical values, encoding categorical variables, and handling missing data to ensure the model can accurately identify patterns and make reliable predictions."
   ]
  },
  {
   "cell_type": "markdown",
   "id": "035d6bb3-ab40-4bb4-9300-3732f759b4c8",
   "metadata": {},
   "source": [
    "---\n",
    "## Methods & Results"
   ]
  },
  {
   "cell_type": "code",
   "execution_count": 2,
   "id": "edb07acd-8a62-479c-9c67-61d0a16c9dff",
   "metadata": {},
   "outputs": [
    {
     "name": "stderr",
     "output_type": "stream",
     "text": [
      "── \u001b[1mAttaching core tidyverse packages\u001b[22m ──────────────────────── tidyverse 2.0.0 ──\n",
      "\u001b[32m✔\u001b[39m \u001b[34mdplyr    \u001b[39m 1.1.4     \u001b[32m✔\u001b[39m \u001b[34mreadr    \u001b[39m 2.1.5\n",
      "\u001b[32m✔\u001b[39m \u001b[34mforcats  \u001b[39m 1.0.0     \u001b[32m✔\u001b[39m \u001b[34mstringr  \u001b[39m 1.5.1\n",
      "\u001b[32m✔\u001b[39m \u001b[34mggplot2  \u001b[39m 3.5.1     \u001b[32m✔\u001b[39m \u001b[34mtibble   \u001b[39m 3.2.1\n",
      "\u001b[32m✔\u001b[39m \u001b[34mlubridate\u001b[39m 1.9.3     \u001b[32m✔\u001b[39m \u001b[34mtidyr    \u001b[39m 1.3.1\n",
      "\u001b[32m✔\u001b[39m \u001b[34mpurrr    \u001b[39m 1.0.2     \n",
      "── \u001b[1mConflicts\u001b[22m ────────────────────────────────────────── tidyverse_conflicts() ──\n",
      "\u001b[31m✖\u001b[39m \u001b[34mdplyr\u001b[39m::\u001b[32mfilter()\u001b[39m masks \u001b[34mstats\u001b[39m::filter()\n",
      "\u001b[31m✖\u001b[39m \u001b[34mdplyr\u001b[39m::\u001b[32mlag()\u001b[39m    masks \u001b[34mstats\u001b[39m::lag()\n",
      "\u001b[36mℹ\u001b[39m Use the conflicted package (\u001b[3m\u001b[34m<http://conflicted.r-lib.org/>\u001b[39m\u001b[23m) to force all conflicts to become errors\n",
      "── \u001b[1mAttaching packages\u001b[22m ────────────────────────────────────── tidymodels 1.1.1 ──\n",
      "\n",
      "\u001b[32m✔\u001b[39m \u001b[34mbroom       \u001b[39m 1.0.6     \u001b[32m✔\u001b[39m \u001b[34mrsample     \u001b[39m 1.2.1\n",
      "\u001b[32m✔\u001b[39m \u001b[34mdials       \u001b[39m 1.3.0     \u001b[32m✔\u001b[39m \u001b[34mtune        \u001b[39m 1.1.2\n",
      "\u001b[32m✔\u001b[39m \u001b[34minfer       \u001b[39m 1.0.7     \u001b[32m✔\u001b[39m \u001b[34mworkflows   \u001b[39m 1.1.4\n",
      "\u001b[32m✔\u001b[39m \u001b[34mmodeldata   \u001b[39m 1.4.0     \u001b[32m✔\u001b[39m \u001b[34mworkflowsets\u001b[39m 1.0.1\n",
      "\u001b[32m✔\u001b[39m \u001b[34mparsnip     \u001b[39m 1.2.1     \u001b[32m✔\u001b[39m \u001b[34myardstick   \u001b[39m 1.3.1\n",
      "\u001b[32m✔\u001b[39m \u001b[34mrecipes     \u001b[39m 1.1.0     \n",
      "\n",
      "── \u001b[1mConflicts\u001b[22m ───────────────────────────────────────── tidymodels_conflicts() ──\n",
      "\u001b[31m✖\u001b[39m \u001b[34mscales\u001b[39m::\u001b[32mdiscard()\u001b[39m masks \u001b[34mpurrr\u001b[39m::discard()\n",
      "\u001b[31m✖\u001b[39m \u001b[34mdplyr\u001b[39m::\u001b[32mfilter()\u001b[39m   masks \u001b[34mstats\u001b[39m::filter()\n",
      "\u001b[31m✖\u001b[39m \u001b[34mrecipes\u001b[39m::\u001b[32mfixed()\u001b[39m  masks \u001b[34mstringr\u001b[39m::fixed()\n",
      "\u001b[31m✖\u001b[39m \u001b[34mdplyr\u001b[39m::\u001b[32mlag()\u001b[39m      masks \u001b[34mstats\u001b[39m::lag()\n",
      "\u001b[31m✖\u001b[39m \u001b[34myardstick\u001b[39m::\u001b[32mspec()\u001b[39m masks \u001b[34mreadr\u001b[39m::spec()\n",
      "\u001b[31m✖\u001b[39m \u001b[34mrecipes\u001b[39m::\u001b[32mstep()\u001b[39m   masks \u001b[34mstats\u001b[39m::step()\n",
      "\u001b[34m•\u001b[39m Search for functions across packages at \u001b[32mhttps://www.tidymodels.org/find/\u001b[39m\n",
      "\n"
     ]
    }
   ],
   "source": [
    "# Importing libraries\n",
    "library(tidyverse)\n",
    "library(tidymodels)\n",
    "library(repr)\n",
    "library(RColorBrewer)\n",
    "library(ggplot2)\n",
    "library(forcats)\n",
    "library(lubridate)\n",
    "\n",
    "#Limit output of dataframes to 6 frames\n",
    "options(repr.matrix.max.rows = 6)"
   ]
  },
  {
   "cell_type": "code",
   "execution_count": null,
   "id": "c0bc4b2e-d2b4-468a-91e6-f486ae8722a4",
   "metadata": {},
   "outputs": [],
   "source": [
    "players <- read_csv(\"https://raw.githubusercontent.com/JasleenJhajj/toy_ds_project/refs/heads/main/players.csv\")\n",
    "players\n",
    "sessions <- read_csv(\"https://raw.githubusercontent.com/JasleenJhajj/toy_ds_project/refs/heads/main/sessions.csv\")\n",
    "sessions"
   ]
  },
  {
   "cell_type": "code",
   "execution_count": null,
   "id": "3acbe688-218a-4f86-8372-e1ee3698b486",
   "metadata": {},
   "outputs": [],
   "source": [
    "# Determine if there are missing values in each dataset\n",
    "cat(\"\\nMissing values in players.csv:\\n\")\n",
    "print(colSums(is.na(players)))\n",
    "\n",
    "# Determine the unique values for categorical variables in players\n",
    "cat(\"\\nUnique values in 'experience':\\n\")\n",
    "print(unique(players$experience))\n",
    "\n",
    "cat(\"\\nUnique values in 'gender':\\n\")\n",
    "print(unique(players$gender))"
   ]
  },
  {
   "cell_type": "code",
   "execution_count": null,
   "id": "9870317f-7a86-4d49-a029-a83079054b06",
   "metadata": {},
   "outputs": [],
   "source": [
    "# Summary statistics for quantitative variables in the players data set\n",
    "\n",
    "players_summarized <- players |>\n",
    "summarize (total_players = n(),\n",
    "           mean_age = mean(Age, na.rm = TRUE),\n",
    "           median_age = median(Age, na.rm = TRUE),\n",
    "           sd_age = sd(Age, na.rm = TRUE),\n",
    "           min_age = min(Age, na.rm = TRUE),\n",
    "           max_age = max(Age, na.rm = TRUE),\n",
    "           mean_hours = mean(played_hours, na.rm = TRUE),\n",
    "           median_hours = median(played_hours, na.rm = TRUE),\n",
    "           sd_hours = sd(played_hours, na.rm = TRUE),\n",
    "           min_hours = min(played_hours, na.rm = TRUE),\n",
    "           max_hours = max(played_hours, na.rm = TRUE))\n",
    "players_summarized"
   ]
  },
  {
   "cell_type": "code",
   "execution_count": null,
   "id": "d9a37eb3-6310-4979-a28e-38b92ba93a70",
   "metadata": {},
   "outputs": [],
   "source": [
    "# Clean NA values from players data set\n",
    "clean_players <- players |>\n",
    "filter(!is.na(experience), !is.na(subscribe), !is.na(hashedEmail), !is.na(played_hours), !is.na(Age))\n",
    "\n",
    "# Clean NA values from sessions data set\n",
    "clean_sessions <- sessions |>\n",
    "filter(!is.na(hashedEmail), !is.na(original_start_time), !is.na(original_end_time))"
   ]
  },
  {
   "cell_type": "code",
   "execution_count": null,
   "id": "0c2df47c-d4f3-4f43-91f1-d30ab3c66989",
   "metadata": {},
   "outputs": [],
   "source": [
    "# Create new column called number_of_sessions (Total number of sessions played per player)\n",
    "\n",
    "sessions_player <- clean_sessions |>\n",
    "group_by(hashedEmail) |>\n",
    "summarize(number_of_sessions = n(), .groups = \"drop\")\n",
    "\n",
    "# Merge players and sessions data sets\n",
    "# Remove players without any sessions\n",
    "players_combined <- clean_players |>\n",
    "left_join (sessions_player, by = \"hashedEmail\") |>\n",
    "filter (!is.na(number_of_sessions))\n",
    "\n",
    "# Convert `experience` from a Character to a Factor using as.factor function\n",
    "players_combined$experience <- as.factor(players_combined$experience)\n",
    "\n",
    "#Final data set\n",
    "players_final <- players_combined |>\n",
    "select(played_hours, number_of_sessions, subscribe, experience)\n",
    "players_final"
   ]
  },
  {
   "cell_type": "code",
   "execution_count": null,
   "id": "17d94c6d-a055-4bfd-b444-84f3b64c1549",
   "metadata": {},
   "outputs": [],
   "source": [
    "# wrangle data\n",
    "players_final$experience <- as.numeric(as.factor(players_final$experience))\n",
    "players_final$subscribe <- as.factor(players_final$subscribe)\n",
    "players_final"
   ]
  },
  {
   "cell_type": "code",
   "execution_count": null,
   "id": "337f06c9-2922-4c78-9ca7-7d2959cc039d",
   "metadata": {},
   "outputs": [],
   "source": [
    "# knn\n",
    "# Can a player's playtime (played_hours), experience level (experience), and number of sessions (number_of_sessions) predict their likelihood of subscribing to the newsletter (subscribe)?\n",
    "set.seed(3456) \n",
    "players_split <- initial_split(players_final, prop = 0.75, strata = subscribe)  \n",
    "players_train <- training(players_split)   \n",
    "players_test <- testing(players_split)\n",
    "\n",
    "players_train\n",
    "players_test"
   ]
  },
  {
   "cell_type": "code",
   "execution_count": null,
   "id": "281fc8b6-14de-4ca6-b19c-9f49d9cbcb18",
   "metadata": {},
   "outputs": [],
   "source": [
    "set.seed(2020)\n",
    "\n",
    "players_recipe <- recipe(subscribe ~ played_hours + number_of_sessions + experience, data = players_train) |>\n",
    "   step_scale(all_predictors()) |>\n",
    "   step_center(all_predictors())\n",
    "\n",
    "players_recipe"
   ]
  },
  {
   "cell_type": "code",
   "execution_count": null,
   "id": "076213fa-328b-4f00-bace-c4972e29ca73",
   "metadata": {},
   "outputs": [],
   "source": [
    "set.seed(2020)\n",
    "\n",
    "knn_spec <- nearest_neighbor(weight_func = \"rectangular\", neighbors = 3) |>\n",
    "      set_engine(\"kknn\") |>\n",
    "      set_mode(\"classification\")\n",
    "\n",
    "players_fit <- workflow() |>\n",
    "      add_recipe(players_recipe) |>\n",
    "      add_model(knn_spec) |>\n",
    "      fit(data = players_train)\n",
    "players_fit"
   ]
  },
  {
   "cell_type": "code",
   "execution_count": null,
   "id": "8461bc28-9a8d-44fd-b21f-5fb4d6ec08d8",
   "metadata": {},
   "outputs": [],
   "source": [
    "players_test_predictions <- predict(players_fit , players_test) |>\n",
    "      bind_cols(players_test)\n",
    "\n",
    "players_test_predictions"
   ]
  },
  {
   "cell_type": "code",
   "execution_count": null,
   "id": "2994a7ee-91bf-46a2-92fa-99b16a2b2c56",
   "metadata": {},
   "outputs": [],
   "source": [
    "set.seed(2020)\n",
    "players_prediction_accuracy <- players_test_predictions |>\n",
    "        metrics(truth = subscribe, estimate = .pred_class)             \n",
    "\n",
    "players_prediction_accuracy"
   ]
  },
  {
   "cell_type": "code",
   "execution_count": null,
   "id": "eae27554-e594-4c13-a264-b9b5a4829f7b",
   "metadata": {},
   "outputs": [],
   "source": [
    "set.seed(2020)\n",
    "\n",
    "players_mat <- players_test_predictions |> \n",
    "      conf_mat(truth = subscribe, estimate = .pred_class)\n",
    "\n",
    "players_mat"
   ]
  },
  {
   "cell_type": "code",
   "execution_count": null,
   "id": "48c30df5-9923-498b-b535-9e37433e119d",
   "metadata": {},
   "outputs": [],
   "source": [
    "set.seed(2020)\n",
    "players_vfold <- vfold_cv(players_train, v = 10, strata = subscribe)"
   ]
  },
  {
   "cell_type": "code",
   "execution_count": null,
   "id": "ff4273ae-fe89-474f-bc89-235675af1385",
   "metadata": {},
   "outputs": [],
   "source": [
    "set.seed(2020)\n",
    "players_resample_fit <- workflow() |>\n",
    "      add_recipe(players_recipe) |>\n",
    "      add_model(knn_spec) |>\n",
    "      fit_resamples(resamples = players_vfold)"
   ]
  },
  {
   "cell_type": "code",
   "execution_count": null,
   "id": "3b94b13f-d38d-4b77-921c-497d99f5aaed",
   "metadata": {},
   "outputs": [],
   "source": [
    "players_metrics <- players_resample_fit %>%\n",
    "    collect_metrics()\n",
    "players_metrics"
   ]
  },
  {
   "cell_type": "code",
   "execution_count": null,
   "id": "c8ad67b4-ccd3-44ae-a90b-32b8497e9ccd",
   "metadata": {},
   "outputs": [],
   "source": [
    "set.seed(2020)\n",
    "knn_tune <- nearest_neighbor(weight_func = \"rectangular\", neighbors = tune()) |>\n",
    "      set_engine(\"kknn\") |>\n",
    "      set_mode(\"classification\")\n",
    "knn_tune"
   ]
  },
  {
   "cell_type": "code",
   "execution_count": null,
   "id": "c7db1afc-c40e-4281-a3da-d755a88bc3cc",
   "metadata": {},
   "outputs": [],
   "source": [
    "set.seed(1234)\n",
    "\n",
    "k_vals <- tibble(neighbors = seq(from = 1, to = 10, by = 1))\n",
    "\n",
    "knn_results <- workflow() |>\n",
    "      add_recipe(players_recipe) |>\n",
    "      add_model(knn_tune) |>\n",
    "      tune_grid(resamples = players_vfold, grid = k_vals) |>\n",
    "      collect_metrics()\n",
    "\n",
    "knn_results"
   ]
  },
  {
   "cell_type": "code",
   "execution_count": null,
   "id": "98b4829f-cbec-4574-9e04-3b380022128b",
   "metadata": {},
   "outputs": [],
   "source": [
    "accuracies <- knn_results |> \n",
    "      filter(.metric == \"accuracy\")\n",
    "\n",
    "accuracy_versus_k <- ggplot(accuracies, aes(x = neighbors, y = mean))+\n",
    "      geom_point() +\n",
    "      geom_line() +\n",
    "      labs(x = \"Neighbors\", y = \"Accuracy Estimate\") +\n",
    "      scale_x_continuous(breaks = seq(0, 14, by = 1)) +  # adjusting the x-axis\n",
    "      scale_y_continuous(limits = c(0.2, 1.0)) # adjusting the y-axis\n",
    "\n",
    "accuracy_versus_k"
   ]
  },
  {
   "cell_type": "code",
   "execution_count": null,
   "id": "741f8145-a1ba-48c2-a71f-5f8024959552",
   "metadata": {},
   "outputs": [],
   "source": [
    "set.seed(2020)\n",
    "\n",
    "knn_spec_7 <- nearest_neighbor(weight_func = \"rectangular\", neighbors = 8) |>\n",
    "      set_engine(\"kknn\") |>\n",
    "      set_mode(\"classification\")\n",
    "\n",
    "players_fit_7 <- workflow() |>\n",
    "      add_recipe(players_recipe) |>\n",
    "      add_model(knn_spec_7) |>\n",
    "      fit(data = players_train)\n",
    "players_fit_7"
   ]
  },
  {
   "cell_type": "code",
   "execution_count": null,
   "id": "479b8b24-748a-4dd7-b495-c67f8dc60c46",
   "metadata": {},
   "outputs": [],
   "source": [
    "players_test_predictions_7 <- predict(players_fit_7 , players_test) |>\n",
    "      bind_cols(players_test)\n",
    "\n",
    "players_test_predictions_7"
   ]
  },
  {
   "cell_type": "code",
   "execution_count": 3,
   "id": "639f15c6-4109-4bc6-9188-6ec175fa7618",
   "metadata": {},
   "outputs": [
    {
     "ename": "ERROR",
     "evalue": "Error in eval(expr, envir, enclos): object 'players_test_predictions_7' not found\n",
     "output_type": "error",
     "traceback": [
      "Error in eval(expr, envir, enclos): object 'players_test_predictions_7' not found\nTraceback:\n",
      "1. conf_mat(players_test_predictions_7, truth = subscribe, estimate = .pred_class)"
     ]
    }
   ],
   "source": [
    "set.seed(2020)\n",
    "\n",
    "players_mat_7 <- players_test_predictions_7 |> \n",
    "      conf_mat(truth = subscribe, estimate = .pred_class)\n",
    "\n",
    "players_mat_7"
   ]
  },
  {
   "cell_type": "code",
   "execution_count": null,
   "id": "e45ec9a3-95f8-4b8c-a902-c3930625a4c2",
   "metadata": {},
   "outputs": [],
   "source": []
  }
 ],
 "metadata": {
  "kernelspec": {
   "display_name": "R",
   "language": "R",
   "name": "ir"
  },
  "language_info": {
   "codemirror_mode": "r",
   "file_extension": ".r",
   "mimetype": "text/x-r-source",
   "name": "R",
   "pygments_lexer": "r",
   "version": "4.3.3"
  }
 },
 "nbformat": 4,
 "nbformat_minor": 5
}
