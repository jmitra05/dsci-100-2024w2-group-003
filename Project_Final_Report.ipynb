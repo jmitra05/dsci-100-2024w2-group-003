{
 "cells": [
  {
   "cell_type": "markdown",
   "id": "065af92d-1f89-4b32-88ba-69609a750b8b",
   "metadata": {},
   "source": [
    "# DSCI 100 Project: Final Report"
   ]
  },
  {
   "cell_type": "markdown",
   "id": "fb7c5bd0-97be-4f2b-b678-12ea9c30f989",
   "metadata": {},
   "source": [
    "#### Names: Jasleen Jhajj, Josh Mitra, Angelina Chen"
   ]
  },
  {
   "cell_type": "markdown",
   "id": "3e79a82c-f0c8-418d-ae8b-cbc585d107d4",
   "metadata": {},
   "source": [
    "#### Student IDs: 98671837,"
   ]
  },
  {
   "cell_type": "markdown",
   "id": "2a3df52b-07ff-4d63-85a7-09e2d402a0da",
   "metadata": {},
   "source": [
    "---\n",
    "## Introduction"
   ]
  },
  {
   "cell_type": "markdown",
   "id": "701a0434-e692-45d4-b6ca-8dd78dcb6ecd",
   "metadata": {},
   "source": [
    "A UBC Computer Science research group is studying how people play video games, focusing on Minecraft. They set up a Minecraft server to track player actions. The data is divided into two sets: players.csv and sessions.csv. The players.csv data set has 7 variables and 194 observations. Contrarily, the sessions.csv data set has 5 variables and 1533 observations. Some potential issues with these data sets are that they are not very human readable, some players have played 0 hour, hashedEmail columns are extremely hard to read, as they are just a long sequence of numbers and letters, in the sessions.csv data set, it is very unclear what the original_start_time and original_end_time columns represent, the start_time and end_time columns have 2 observations in each cell, making the data untidy, finally there are multiple players in the players.csv data set that have player 0 hours, causing issues when trying to create visuals for this data. The question we tried to answer in our project was if a player's playtime (played_hours), experience level (experience), and number of sessions (number_of_sessions) predict their likelihood of subscribing to the newsletter (subscribe)? played_hours, experience, and number_of_sessions are key factors in predicting whether a player will subscribe to the newsletter. played_hours measures overall engagement, experience indicates skill level and familiarity with the game, and number_of_sessions reflects playing habits. Preparing the data involves scaling numerical values, encoding categorical variables, and handling missing data to ensure the model can accurately identify patterns and make reliable predictions."
   ]
  },
  {
   "cell_type": "markdown",
   "id": "fdc2b647-9416-4867-894f-635f550ec0d1",
   "metadata": {},
   "source": [
    "---\n",
    "## Methods & Results"
   ]
  },
  {
   "cell_type": "code",
   "execution_count": 3,
   "id": "cea58ddb-c850-416f-85db-4c627947aee3",
   "metadata": {},
   "outputs": [
    {
     "ename": "SyntaxError",
     "evalue": "expression cannot contain assignment, perhaps you meant \"==\"? (936519928.py, line 11)",
     "output_type": "error",
     "traceback": [
      "\u001b[0;36m  Cell \u001b[0;32mIn[3], line 11\u001b[0;36m\u001b[0m\n\u001b[0;31m    options(repr.matrix.max.rows = 6)\u001b[0m\n\u001b[0m            ^\u001b[0m\n\u001b[0;31mSyntaxError\u001b[0m\u001b[0;31m:\u001b[0m expression cannot contain assignment, perhaps you meant \"==\"?\n"
     ]
    }
   ],
   "source": [
    "# Importing libraries\n",
    "library(tidyverse)\n",
    "library(tidymodels)\n",
    "library(repr)\n",
    "library(RColorBrewer)\n",
    "library(ggplot2)\n",
    "library(forcats)\n",
    "library(lubridate)\n",
    "\n",
    "#Limit output of dataframes to 6 frames\n",
    "options(repr.matrix.max.rows = 6)"
   ]
  },
  {
   "cell_type": "code",
   "execution_count": null,
   "id": "e88dcaaa-ff22-43c9-8347-34e4f923a269",
   "metadata": {},
   "outputs": [],
   "source": [
    "players <- read_csv(\"https://raw.githubusercontent.com/JasleenJhajj/toy_ds_project/refs/heads/main/players.csv\")\n",
    "players\n",
    "sessions <- read_csv(\"https://raw.githubusercontent.com/JasleenJhajj/toy_ds_project/refs/heads/main/sessions.csv\")\n",
    "sessions"
   ]
  },
  {
   "cell_type": "code",
   "execution_count": null,
   "id": "0fbb710f-6138-4e12-bd6e-a20c0aa3e53d",
   "metadata": {},
   "outputs": [],
   "source": [
    "# Determine if there are missing values in each dataset\n",
    "cat(\"\\nMissing values in players.csv:\\n\")\n",
    "print(colSums(is.na(players)))\n",
    "\n",
    "# Determine the unique values for categorical variables in players\n",
    "cat(\"\\nUnique values in 'experience':\\n\")\n",
    "print(unique(players$experience))\n",
    "\n",
    "cat(\"\\nUnique values in 'gender':\\n\")\n",
    "print(unique(players$gender))"
   ]
  },
  {
   "cell_type": "code",
   "execution_count": null,
   "id": "12eb7b3f-3a97-4313-9e02-2c73148d45d1",
   "metadata": {},
   "outputs": [],
   "source": [
    "# Summary statistics for quantitative variables in the players data set\n",
    "\n",
    "players_summarized <- players |>\n",
    "summarize (total_players = n(),\n",
    "           mean_age = mean(Age, na.rm = TRUE),\n",
    "           median_age = median(Age, na.rm = TRUE),\n",
    "           sd_age = sd(Age, na.rm = TRUE),\n",
    "           min_age = min(Age, na.rm = TRUE),\n",
    "           max_age = max(Age, na.rm = TRUE),\n",
    "           mean_hours = mean(played_hours, na.rm = TRUE),\n",
    "           median_hours = median(played_hours, na.rm = TRUE),\n",
    "           sd_hours = sd(played_hours, na.rm = TRUE),\n",
    "           min_hours = min(played_hours, na.rm = TRUE),\n",
    "           max_hours = max(played_hours, na.rm = TRUE))\n",
    "players_summarized"
   ]
  },
  {
   "cell_type": "code",
   "execution_count": null,
   "id": "37945287-9772-493a-819a-e6ec17f7895f",
   "metadata": {},
   "outputs": [],
   "source": [
    "# Clean NA values from players data set\n",
    "clean_players <- players |>\n",
    "filter(!is.na(experience), !is.na(subscribe), !is.na(hashedEmail), !is.na(played_hours), !is.na(Age))\n",
    "\n",
    "# Clean NA values from sessions data set\n",
    "clean_sessions <- sessions |>\n",
    "filter(!is.na(hashedEmail), !is.na(original_start_time), !is.na(original_end_time))"
   ]
  },
  {
   "cell_type": "code",
   "execution_count": null,
   "id": "8800f7ed-51d8-4908-8e20-68f13f7ec864",
   "metadata": {},
   "outputs": [],
   "source": [
    "# Create new column called number_of_sessions (Total number of sessions played per player)\n",
    "\n",
    "sessions_player <- clean_sessions |>\n",
    "group_by(hashedEmail) |>\n",
    "summarize(number_of_sessions = n(), .groups = \"drop\")\n",
    "\n",
    "# Merge players and sessions data sets\n",
    "# Remove players without any sessions\n",
    "players_combined <- clean_players |>\n",
    "left_join (sessions_player, by = \"hashedEmail\") |>\n",
    "filter (!is.na(number_of_sessions))\n",
    "\n",
    "# Convert `experience` from a Character to a Factor using as.factor function\n",
    "players_combined$experience <- as.factor(players_combined$experience)\n",
    "\n",
    "#Final data set\n",
    "players_final <- players_combined |>\n",
    "select(played_hours, number_of_sessions, subscribe, experience)\n",
    "players_final"
   ]
  },
  {
   "cell_type": "code",
   "execution_count": null,
   "id": "6122a8e8-2f14-4cc5-a681-7998a7c4f98b",
   "metadata": {},
   "outputs": [],
   "source": [
    "# wrangle data\n",
    "players_final$experience <- as.numeric(as.factor(players_final$experience))\n",
    "players_final$subscribe <- as.factor(players_final$subscribe)\n",
    "players_final"
   ]
  },
  {
   "cell_type": "code",
   "execution_count": null,
   "id": "11e0c931-086b-46df-801e-c5638eab1ee9",
   "metadata": {},
   "outputs": [],
   "source": [
    "# knn\n",
    "# Can a player's playtime (played_hours), experience level (experience), and number of sessions (number_of_sessions) predict their likelihood of subscribing to the newsletter (subscribe)?\n",
    "set.seed(3456) \n",
    "players_split <- initial_split(players_final, prop = 0.75, strata = subscribe)  \n",
    "players_train <- training(players_split)   \n",
    "players_test <- testing(players_split)\n",
    "\n",
    "players_train\n",
    "players_test"
   ]
  },
  {
   "cell_type": "code",
   "execution_count": null,
   "id": "53a6cfcb-a791-4eb5-9a4e-5b12f30dc402",
   "metadata": {},
   "outputs": [],
   "source": [
    "set.seed(2020)\n",
    "\n",
    "players_recipe <- recipe(subscribe ~ played_hours + number_of_sessions + experience, data = players_train) |>\n",
    "   step_scale(all_predictors()) |>\n",
    "   step_center(all_predictors())\n",
    "\n",
    "players_recipe"
   ]
  },
  {
   "cell_type": "code",
   "execution_count": null,
   "id": "3389a20e-ea37-4ff6-981b-ced2084ca70f",
   "metadata": {},
   "outputs": [],
   "source": [
    "set.seed(2020)\n",
    "\n",
    "knn_spec <- nearest_neighbor(weight_func = \"rectangular\", neighbors = 3) |>\n",
    "      set_engine(\"kknn\") |>\n",
    "      set_mode(\"classification\")\n",
    "\n",
    "players_fit <- workflow() |>\n",
    "      add_recipe(players_recipe) |>\n",
    "      add_model(knn_spec) |>\n",
    "      fit(data = players_train)\n",
    "players_fit"
   ]
  },
  {
   "cell_type": "code",
   "execution_count": null,
   "id": "57946e84-4c40-4677-aa88-69ae6d18cc38",
   "metadata": {},
   "outputs": [],
   "source": [
    "players_test_predictions <- predict(players_fit , players_test) |>\n",
    "      bind_cols(players_test)\n",
    "\n",
    "players_test_predictions"
   ]
  },
  {
   "cell_type": "code",
   "execution_count": null,
   "id": "3122c521-305a-4713-83de-151591e16501",
   "metadata": {},
   "outputs": [],
   "source": [
    "set.seed(2020)\n",
    "players_prediction_accuracy <- players_test_predictions |>\n",
    "        metrics(truth = subscribe, estimate = .pred_class)             \n",
    "\n",
    "players_prediction_accuracy"
   ]
  },
  {
   "cell_type": "code",
   "execution_count": null,
   "id": "b222ba46-c37c-4436-8da2-504eaceec4bd",
   "metadata": {},
   "outputs": [],
   "source": [
    "set.seed(2020)\n",
    "\n",
    "players_mat <- players_test_predictions |> \n",
    "      conf_mat(truth = subscribe, estimate = .pred_class)\n",
    "\n",
    "players_mat"
   ]
  },
  {
   "cell_type": "code",
   "execution_count": null,
   "id": "5d0a15eb-be11-4d38-b8f6-fd82066e2c97",
   "metadata": {},
   "outputs": [],
   "source": [
    "set.seed(2020)\n",
    "players_vfold <- vfold_cv(players_train, v = 10, strata = subscribe)"
   ]
  },
  {
   "cell_type": "code",
   "execution_count": null,
   "id": "e3c0b7b4-a9f5-412b-9a5c-b902176cb707",
   "metadata": {},
   "outputs": [],
   "source": [
    "set.seed(2020)\n",
    "players_resample_fit <- workflow() |>\n",
    "      add_recipe(players_recipe) |>\n",
    "      add_model(knn_spec) |>\n",
    "      fit_resamples(resamples = players_vfold)"
   ]
  },
  {
   "cell_type": "code",
   "execution_count": null,
   "id": "d842425a-a924-4bc0-849f-db83e4709bc5",
   "metadata": {},
   "outputs": [],
   "source": [
    "players_metrics <- players_resample_fit %>%\n",
    "    collect_metrics()\n",
    "players_metrics"
   ]
  },
  {
   "cell_type": "code",
   "execution_count": null,
   "id": "61e4d003-5069-4506-9d09-97078ed1898b",
   "metadata": {},
   "outputs": [],
   "source": [
    "set.seed(2020)\n",
    "knn_tune <- nearest_neighbor(weight_func = \"rectangular\", neighbors = tune()) |>\n",
    "      set_engine(\"kknn\") |>\n",
    "      set_mode(\"classification\")\n",
    "knn_tune"
   ]
  },
  {
   "cell_type": "code",
   "execution_count": null,
   "id": "de4acb62-0cea-43bf-b8b2-90b9f8a2212a",
   "metadata": {},
   "outputs": [],
   "source": [
    "set.seed(1234)\n",
    "\n",
    "k_vals <- tibble(neighbors = seq(from = 1, to = 10, by = 1))\n",
    "\n",
    "knn_results <- workflow() |>\n",
    "      add_recipe(players_recipe) |>\n",
    "      add_model(knn_tune) |>\n",
    "      tune_grid(resamples = players_vfold, grid = k_vals) |>\n",
    "      collect_metrics()\n",
    "\n",
    "knn_results"
   ]
  },
  {
   "cell_type": "code",
   "execution_count": null,
   "id": "e25921ce-3c41-4836-9a62-b342c19a08fc",
   "metadata": {},
   "outputs": [],
   "source": [
    "accuracies <- knn_results |> \n",
    "      filter(.metric == \"accuracy\")\n",
    "\n",
    "accuracy_versus_k <- ggplot(accuracies, aes(x = neighbors, y = mean))+\n",
    "      geom_point() +\n",
    "      geom_line() +\n",
    "      labs(x = \"Neighbors\", y = \"Accuracy Estimate\") +\n",
    "      scale_x_continuous(breaks = seq(0, 14, by = 1)) +  # adjusting the x-axis\n",
    "      scale_y_continuous(limits = c(0.2, 1.0)) # adjusting the y-axis\n",
    "\n",
    "accuracy_versus_k"
   ]
  },
  {
   "cell_type": "code",
   "execution_count": null,
   "id": "343397a7-3132-4c03-a949-3e82885ee7ef",
   "metadata": {},
   "outputs": [],
   "source": [
    "set.seed(2020)\n",
    "\n",
    "knn_spec_7 <- nearest_neighbor(weight_func = \"rectangular\", neighbors = 8) |>\n",
    "      set_engine(\"kknn\") |>\n",
    "      set_mode(\"classification\")\n",
    "\n",
    "players_fit_7 <- workflow() |>\n",
    "      add_recipe(players_recipe) |>\n",
    "      add_model(knn_spec_7) |>\n",
    "      fit(data = players_train)\n",
    "players_fit_7"
   ]
  },
  {
   "cell_type": "code",
   "execution_count": null,
   "id": "b34360a1-a633-4972-962d-b94ca607b8e0",
   "metadata": {},
   "outputs": [],
   "source": [
    "players_test_predictions_7 <- predict(players_fit_7 , players_test) |>\n",
    "      bind_cols(players_test)\n",
    "\n",
    "players_test_predictions_7"
   ]
  },
  {
   "cell_type": "code",
   "execution_count": 2,
   "id": "ca6b671b-fde8-4414-b266-6dc895f5b08f",
   "metadata": {},
   "outputs": [
    {
     "ename": "SyntaxError",
     "evalue": "invalid syntax (3450351052.py, line 3)",
     "output_type": "error",
     "traceback": [
      "\u001b[0;36m  Cell \u001b[0;32mIn[2], line 3\u001b[0;36m\u001b[0m\n\u001b[0;31m    players_mat_7 <- players_test_predictions_7 |>\u001b[0m\n\u001b[0m                                                 ^\u001b[0m\n\u001b[0;31mSyntaxError\u001b[0m\u001b[0;31m:\u001b[0m invalid syntax\n"
     ]
    }
   ],
   "source": [
    "set.seed(2020)\n",
    "\n",
    "players_mat_7 <- players_test_predictions_7 |> \n",
    "      conf_mat(truth = subscribe, estimate = .pred_class)\n",
    "\n",
    "players_mat_7"
   ]
  },
  {
   "cell_type": "markdown",
   "id": "cb0abbdf-785b-48df-b105-38ca156f36e5",
   "metadata": {},
   "source": [
    "---\n",
    "## Discussion"
   ]
  }
 ],
 "metadata": {
  "kernelspec": {
   "display_name": "Python 3 (ipykernel)",
   "language": "python",
   "name": "python3"
  },
  "language_info": {
   "codemirror_mode": {
    "name": "ipython",
    "version": 3
   },
   "file_extension": ".py",
   "mimetype": "text/x-python",
   "name": "python",
   "nbconvert_exporter": "python",
   "pygments_lexer": "ipython3",
   "version": "3.11.9"
  }
 },
 "nbformat": 4,
 "nbformat_minor": 5
}
