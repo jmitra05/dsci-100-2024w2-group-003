{
 "cells": [
  {
   "cell_type": "markdown",
   "id": "065af92d-1f89-4b32-88ba-69609a750b8b",
   "metadata": {},
   "source": [
    "# DSCI 100 Project: Final Report"
   ]
  },
  {
   "cell_type": "markdown",
   "id": "fb7c5bd0-97be-4f2b-b678-12ea9c30f989",
   "metadata": {},
   "source": [
    "#### Names: Jasleen Jhajj, Josh Mitra, Angelina Chen"
   ]
  },
  {
   "cell_type": "markdown",
   "id": "3e79a82c-f0c8-418d-ae8b-cbc585d107d4",
   "metadata": {},
   "source": [
    "#### Student IDs: 98671837,"
   ]
  },
  {
   "cell_type": "markdown",
   "id": "2a3df52b-07ff-4d63-85a7-09e2d402a0da",
   "metadata": {},
   "source": [
    "---\n",
    "## Introduction"
   ]
  },
  {
   "cell_type": "markdown",
   "id": "fdc2b647-9416-4867-894f-635f550ec0d1",
   "metadata": {},
   "source": [
    "---\n",
    "## Methods & Results"
   ]
  },
  {
   "cell_type": "markdown",
   "id": "cb0abbdf-785b-48df-b105-38ca156f36e5",
   "metadata": {},
   "source": [
    "---\n",
    "## Discussion"
   ]
  }
 ],
 "metadata": {
  "kernelspec": {
   "display_name": "Python 3 (ipykernel)",
   "language": "python",
   "name": "python3"
  },
  "language_info": {
   "codemirror_mode": {
    "name": "ipython",
    "version": 3
   },
   "file_extension": ".py",
   "mimetype": "text/x-python",
   "name": "python",
   "nbconvert_exporter": "python",
   "pygments_lexer": "ipython3",
   "version": "3.11.9"
  }
 },
 "nbformat": 4,
 "nbformat_minor": 5
}
